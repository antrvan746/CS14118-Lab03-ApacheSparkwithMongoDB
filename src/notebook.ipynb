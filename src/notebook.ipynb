{
  "cells": [
    {
      "cell_type": "markdown",
      "metadata": {
        "id": "tChWFAUf8CAg"
      },
      "source": [
        "# Part 0: Setting up"
      ]
    },
    {
      "cell_type": "markdown",
      "metadata": {
        "id": "867SO8F24Enh"
      },
      "source": [
        "## Install and start MongoDB"
      ]
    },
    {
      "cell_type": "code",
      "execution_count": null,
      "metadata": {
        "id": "enbk0ZkjoxPO"
      },
      "outputs": [],
      "source": [
        "!apt install -qq mongodb\n",
        "!service mongodb start"
      ]
    },
    {
      "cell_type": "markdown",
      "metadata": {
        "id": "7dph1tTf4HkU"
      },
      "source": [
        "## Download dataset and push to our mongodb "
      ]
    },
    {
      "cell_type": "code",
      "execution_count": null,
      "metadata": {
        "id": "cy-r-AQ2pZM0"
      },
      "outputs": [],
      "source": [
        "# It's already the 21st century and people are very impatient, so they use Brotli for text and Zstd for everything else.\n",
        "# Reference: https://github.com/google/brotli\n",
        "!apt-get install -qq brotli"
      ]
    },
    {
      "cell_type": "code",
      "execution_count": null,
      "metadata": {
        "id": "XNT5v0BkpMWa"
      },
      "outputs": [],
      "source": [
        "!wget -q https://csc14118.github.io/thuoc_raw.json.br\n",
        "!wget -q https://csc14118.github.io/gia_ke_khai_raw.json.br\n",
        "!wget -q https://csc14118.github.io/movies_lang.json.br "
      ]
    },
    {
      "cell_type": "code",
      "execution_count": null,
      "metadata": {
        "id": "qqVJXO4TpQDZ"
      },
      "outputs": [],
      "source": [
        "!brotli -d *.br"
      ]
    },
    {
      "cell_type": "code",
      "execution_count": null,
      "metadata": {
        "id": "p2AGMuFp6x2u"
      },
      "outputs": [],
      "source": [
        "!pip install -q pymongo"
      ]
    },
    {
      "cell_type": "code",
      "execution_count": null,
      "metadata": {
        "id": "4lGAVCVCpz_9"
      },
      "outputs": [],
      "source": [
        "import json\n",
        "from pymongo import MongoClient\n",
        "\n",
        "client = MongoClient()\n",
        "\n",
        "# Creation of the new database\n",
        "db = client['input_data']\n",
        "\n",
        "collection_name = [\"gia_ke_khai_raw\", \"movies_lang\", \"thuoc_raw\"]\n",
        "\n",
        "# Push our data to mongodb\n",
        "for data in collection_name:\n",
        "    collection = db[data]\n",
        "    chunks = json.load(open(f'{data}.json'))\n",
        "    collection.insert_many(chunks)\n",
        "\n",
        "# Create a dummy database to test\n",
        "db = client['dummy']\n",
        "db['chunks'].insert_many([{'Banh xeo': 'Rat ngon'},{'Banh bao': 'Cung ngon'}])\n",
        "\n",
        "client.list_database_names()"
      ]
    },
    {
      "cell_type": "markdown",
      "metadata": {
        "id": "BPgvKHYi46Zh"
      },
      "source": [
        "## Install pyspark"
      ]
    },
    {
      "cell_type": "code",
      "execution_count": null,
      "metadata": {
        "id": "3BQOC48fkpMX"
      },
      "outputs": [],
      "source": [
        "!apt-get install openjdk-8-jdk-headless -qq > /dev/null\n",
        "!wget -q \"https://archive.apache.org/dist/spark/spark-3.1.1/spark-3.1.1-bin-hadoop2.7.tgz\"\n",
        "!tar xf spark-3.1.1-bin-hadoop2.7.tgz\n",
        "!pip install -q findspark"
      ]
    },
    {
      "cell_type": "code",
      "execution_count": null,
      "metadata": {
        "id": "nJFxkwtAkt3U"
      },
      "outputs": [],
      "source": [
        "import os\n",
        "os.environ[\"JAVA_HOME\"] = \"/usr/lib/jvm/java-8-openjdk-amd64\"\n",
        "os.environ[\"SPARK_HOME\"] = \"spark-3.1.1-bin-hadoop2.7\"\n",
        "import findspark\n",
        "findspark.init()\n",
        "findspark.find()"
      ]
    },
    {
      "cell_type": "code",
      "execution_count": null,
      "metadata": {
        "id": "qgjKoGjDzZgu"
      },
      "outputs": [],
      "source": [
        "import pyspark\n",
        "print(pyspark.__version__)"
      ]
    },
    {
      "cell_type": "markdown",
      "metadata": {
        "id": "N4x3MtDq494s"
      },
      "source": [
        "## Dirty trick to connect spark to our mongodb\n",
        "\n",
        "In industry environment, please read the docs carefully to seting up these complicated things."
      ]
    },
    {
      "cell_type": "code",
      "execution_count": null,
      "metadata": {
        "id": "J3kZd3CZNIY-"
      },
      "outputs": [],
      "source": [
        "!rm $SPARK_HOME/jars/mongo*.jar\n",
        "!rm $SPARK_HOME/jars/bson*.jar"
      ]
    },
    {
      "cell_type": "code",
      "execution_count": null,
      "metadata": {
        "id": "wPavC4NBR0fn"
      },
      "outputs": [],
      "source": [
        "!cd $SPARK_HOME/jars && wget https://repo1.maven.org/maven2/org/mongodb/spark/mongo-spark-connector_2.12/10.1.1/mongo-spark-connector_2.12-10.1.1.jar\n",
        "!cd $SPARK_HOME/jars && wget https://repo1.maven.org/maven2/org/mongodb/mongodb-driver/3.12.12/mongodb-driver-3.12.12.jar\n",
        "!cd $SPARK_HOME/jars && wget https://repo1.maven.org/maven2/org/mongodb/mongo-java-driver/3.12.12/mongo-java-driver-3.12.12.jar\n",
        "!cd $SPARK_HOME/jars && wget https://repo1.maven.org/maven2/org/mongodb/bson/4.6.0/bson-4.6.0.jar"
      ]
    },
    {
      "cell_type": "code",
      "execution_count": null,
      "metadata": {
        "id": "E9Z415K4fRED"
      },
      "outputs": [],
      "source": [
        "from pyspark.shell import spark\n",
        "from pyspark import SparkContext,SparkConf\n",
        "\n",
        "uri = \"mongodb://localhost:27017/input_data\"\n",
        "\n",
        "from pyspark.sql import SparkSession\n",
        "\n",
        "spark_jb = \"org.mongodb.spark:mongo-spark-connector_2.12:10.1.1\"\n",
        "my_spark = SparkSession \\\n",
        "    .builder \\\n",
        "    .config(\"spark.executor.memory\", \"1g\") \\\n",
        "    .appName(\"csc14112\") \\\n",
        "    .config(\"spark.mongodb.read.connection.uri\", uri) \\\n",
        "    .config(\"spark.mongodb.write.connection.uri\", uri) \\\n",
        "    .getOrCreate()"
      ]
    },
    {
      "cell_type": "code",
      "execution_count": null,
      "metadata": {
        "id": "VIcRV6NEfdM5"
      },
      "outputs": [],
      "source": [
        "# Test read data from our mongo db\n",
        "p = my_spark.read.format(\"mongodb\").option(\"database\",\"dummy\").option(\"collection\", \"chunk\").load()\n",
        "p.printSchema()"
      ]
    },
    {
      "cell_type": "code",
      "execution_count": null,
      "metadata": {
        "id": "7QDbkF7Wpl4f"
      },
      "outputs": [],
      "source": [
        "p.show()"
      ]
    },
    {
      "cell_type": "markdown",
      "metadata": {
        "id": "OOBcV-zg8IPv"
      },
      "source": [
        "# Part 1: Introduction to PySpark"
      ]
    },
    {
      "cell_type": "markdown",
      "metadata": {
        "id": "LejimkJO8u6A"
      },
      "source": [
        "\n",
        "In this lab assignment, we will work with a movie dataset loaded into our MongoDB at `input_data.movies_lang`. We will use PySpark RDD and DataFrame to perform the following tasks:"
      ]
    },
    {
      "cell_type": "code",
      "execution_count": null,
      "metadata": {
        "id": "29SbDUgzQksL"
      },
      "outputs": [],
      "source": [
        "# YOUR CODE HERE\n",
        "# Read data from mongodb\n",
        "\n",
        "df = my_spark.read.format(\"mongodb\").option(\"database\",\"input_data\").option(\"collection\", \"movies_lang\").load()\n",
        "df.printSchema()"
      ]
    },
    {
      "cell_type": "code",
      "execution_count": null,
      "metadata": {
        "id": "XFysgyYtMHmB"
      },
      "outputs": [],
      "source": [
        "from pyspark.sql import functions as f"
      ]
    },
    {
      "cell_type": "markdown",
      "metadata": {
        "id": "mjQyMcL59FwB"
      },
      "source": [
        "### (a) Count the number of movies by country. Sort by count in decreasing order."
      ]
    },
    {
      "cell_type": "code",
      "execution_count": null,
      "metadata": {
        "id": "qOKzEl44nj6V"
      },
      "outputs": [],
      "source": [
        "# YOUR CODE HERE\n",
        "\n",
        "# Count the number of movies by country and sort the result in decreasing order\n",
        "result = df.groupBy(\"country\").count().orderBy(\"count\", ascending=False)\n",
        "\n",
        "# Show the result\n",
        "result.show()"
      ]
    },
    {
      "cell_type": "markdown",
      "metadata": {
        "id": "Gi9OiL_K8610"
      },
      "source": [
        "### (b) Return the titles of the movies produced in France."
      ]
    },
    {
      "cell_type": "code",
      "execution_count": null,
      "metadata": {
        "id": "nuIk85yf-5EX"
      },
      "outputs": [],
      "source": [
        "# YOUR CODE HERE\n",
        "\n",
        "raise NotImplementedError"
      ]
    },
    {
      "cell_type": "markdown",
      "metadata": {
        "id": "RWIrwllI-9LI"
      },
      "source": [
        "### (c) Return the title of the movies of which Sofia Coppola is one of the actresses. "
      ]
    },
    {
      "cell_type": "code",
      "execution_count": null,
      "metadata": {
        "id": "XznCrQxy-858"
      },
      "outputs": [],
      "source": [
        "# YOUR CODE HERE\n",
        "\n",
        "raise NotImplementedError"
      ]
    },
    {
      "cell_type": "markdown",
      "metadata": {
        "id": "rqtvCzPV_Con"
      },
      "source": [
        "### (d) Return the names and birth dates of the directors of movies produced in France.\n"
      ]
    },
    {
      "cell_type": "code",
      "execution_count": null,
      "metadata": {
        "id": "ZBzAdOj8_Cb3"
      },
      "outputs": [],
      "source": [
        "# YOUR CODE HERE\n",
        "\n",
        "df.select(df.director.first_name, df.director.last_name, df.director.birth_date).filter(f.col('country') == 'FR').show()\n"
      ]
    },
    {
      "cell_type": "markdown",
      "metadata": {
        "id": "jtYnldOV_MXj"
      },
      "source": [
        "### (e) Return the average number of actors in a film.\n"
      ]
    },
    {
      "cell_type": "code",
      "execution_count": null,
      "metadata": {
        "id": "RQmY486U_PaW"
      },
      "outputs": [],
      "source": [
        "# YOUR CODE HERE\n",
        "\n",
        "result = df.withColumn('actor', f.explode(df.actors)).groupBy('title').count().orderBy('count', ascending = False)\n",
        "\n",
        "result.select(f.avg('count')).show()"
      ]
    },
    {
      "cell_type": "markdown",
      "metadata": {
        "id": "vbZmOOAz_RDj"
      },
      "source": [
        "### (f) Return the name of the actor that acted in the most movies."
      ]
    },
    {
      "cell_type": "code",
      "execution_count": null,
      "metadata": {
        "id": "V6ZKk9Ts_StS"
      },
      "outputs": [],
      "source": [
        "# YOUR CODE HERE\n",
        "\n",
        "result = df.withColumn('actor', f.explode(df.actors)).groupBy('actor').count().orderBy('count', ascending = False)\n",
        "result.show()"
      ]
    },
    {
      "cell_type": "markdown",
      "metadata": {
        "id": "1p8qOmwE8MU8"
      },
      "source": [
        "# Part 2: Real-world Data Manipulation"
      ]
    },
    {
      "cell_type": "markdown",
      "metadata": {
        "id": "6Xjjk5Sg_xuO"
      },
      "source": [
        "In this part of the lab, we will work with two collections in our MongoDB: `gia_ke_khai_raw` and `thuoc_raw` loaded at `input_data.gia_ke_khai_raw` and `input_data.thuoc_raw` respectively. We will use PySpark RDD and DataFrame to perform the following tasks:"
      ]
    },
    {
      "cell_type": "markdown",
      "metadata": {
        "id": "QJXKtUUkHDLn"
      },
      "source": [
        "### (a)  Read the datasets into a DataFrame and print out the schema and the number of records."
      ]
    },
    {
      "cell_type": "code",
      "execution_count": null,
      "metadata": {
        "id": "BsEKB1yk_o7d"
      },
      "outputs": [],
      "source": [
        "# YOUR CODE HERE\n",
        "\n",
        "df1 = my_spark.read.format(\"mongodb\").option(\"database\",\"input_data\").option(\"collection\", \"gia_ke_khai_raw\").load()\n",
        "print(\"The schema of gia_ke_khai_raw\")\n",
        "df1.printSchema()\n",
        "print('Numbers of recoed: ', df1.count())\n",
        "df2 = my_spark.read.format(\"mongodb\").option(\"database\",\"input_data\").option(\"collection\", \"thuoc_raw\").load()\n",
        "print('The schema of thuoc_raw')\n",
        "df2.printSchema()\n",
        "print('Numbers of recoed: ', df1.count())"
      ]
    },
    {
      "cell_type": "markdown",
      "metadata": {
        "id": "KrwAxI--bzks"
      },
      "source": [
        "### (b) Show all records in the `thuoc_raw` collection that have the same active pharmaceutical ingredient (API) in their `hoatChat` field as their medicine name.\n",
        "\n",
        "\n",
        "Notes: In the context of medication, API stands for Active Pharmaceutical Ingredient, which is the biologically active component in a drug that produces the intended therapeutic effect. In other words, it is the chemical substance that gives a medicine its medicinal properties."
      ]
    },
    {
      "cell_type": "code",
      "execution_count": null,
      "metadata": {
        "id": "myaTwNj8byW0"
      },
      "outputs": [],
      "source": [
        "# YOUR CODE HERE\n",
        "\n",
        "raise NotImplementedError"
      ]
    },
    {
      "cell_type": "markdown",
      "metadata": {
        "id": "9e0N9KtvIIS4"
      },
      "source": [
        "### (c) Create a new DataFrame from the `thuoc_raw` collection that splits the API in the `hoatChat` field into multiple rows. For example, \"paracetamol\" is the API in \"Paracetamol 500 mg,\" and \"amoxicillin\" is the API in various medications such as \"Amogentine 500mg/125mg,\" \"Augbactam 1g/200mg,\" and \"Viamomentin.\" The resulting DataFrame should have two columns: `hoatChat` and `thuocTuongUng` as a list. After processing the data, write it back to our MongoDB at `output_data.thuocthaythe`."
      ]
    },
    {
      "cell_type": "code",
      "execution_count": null,
      "metadata": {
        "id": "BQzlRdrKag1A"
      },
      "outputs": [],
      "source": [
        "# YOUR CODE HERE\n",
        "\n",
        "import pyspark.sql.functions as f\n",
        "\n",
        "thuoc_split_df = df2.select(\"hoatChat\", f.split(\"hoatChat\", \", \").alias(\"APIs\"))\n",
        "thuoc_explode_df = thuoc_split_df.select(\"hoatChat\", f.explode(\"APIs\").alias(\"thuocTuongUng\"))\n",
        "thuoc_grouped_df = thuoc_explode_df.groupBy(\"hoatChat\").agg(f.collect_list(\"thuocTuongUng\").alias(\"thuocTuongUng\"))\n",
        "thuoc_grouped_df.show()\n",
        "thuoc_grouped_df.write.format(\"mongodb\").mode(\"overwrite\").option(\"database\", \"output_data\").option(\"collection\", \"thuocthaythe\").save()"
      ]
    },
    {
      "cell_type": "markdown",
      "metadata": {
        "id": "sQ00j4TuHosd"
      },
      "source": [
        "### (d) Create new DataFrame from two mentioned above that contains  `tenThuoc`, `hoatChat`, `dongGoi`, `dvt` and `giaBan`. After process the data, write it back to our mongodb at `output_data.giathuoc`."
      ]
    },
    {
      "cell_type": "code",
      "execution_count": null,
      "metadata": {
        "id": "O8YNrN4lAZa5"
      },
      "outputs": [],
      "source": [
        "# YOUR CODE HERE\n",
        "\n",
        "raise NotImplementedError"
      ]
    }
  ],
  "metadata": {
    "accelerator": "GPU",
    "colab": {
      "collapsed_sections": [
        "tChWFAUf8CAg",
        "867SO8F24Enh",
        "7dph1tTf4HkU",
        "OOBcV-zg8IPv",
        "1p8qOmwE8MU8"
      ],
      "private_outputs": true,
      "provenance": []
    },
    "gpuClass": "standard",
    "kernelspec": {
      "display_name": "Python 3",
      "name": "python3"
    },
    "language_info": {
      "name": "python"
    }
  },
  "nbformat": 4,
  "nbformat_minor": 0
}
